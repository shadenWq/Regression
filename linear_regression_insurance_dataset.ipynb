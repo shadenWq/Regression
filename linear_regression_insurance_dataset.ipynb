{
  "nbformat": 4,
  "nbformat_minor": 0,
  "metadata": {
    "colab": {
      "provenance": [],
      "authorship_tag": "ABX9TyNpX6QWU23zOe5YpBFibniu",
      "include_colab_link": true
    },
    "kernelspec": {
      "name": "python3",
      "display_name": "Python 3"
    },
    "language_info": {
      "name": "python"
    }
  },
  "cells": [
    {
      "cell_type": "markdown",
      "metadata": {
        "id": "view-in-github",
        "colab_type": "text"
      },
      "source": [
        "<a href=\"https://colab.research.google.com/github/shadenWq/Regression/blob/main/linear_regression_insurance_dataset.ipynb\" target=\"_parent\"><img src=\"https://colab.research.google.com/assets/colab-badge.svg\" alt=\"Open In Colab\"/></a>"
      ]
    },
    {
      "cell_type": "code",
      "execution_count": 1,
      "metadata": {
        "id": "fTohK1yD0xwa"
      },
      "outputs": [],
      "source": [
        "import numpy as np\n",
        "import matplotlib.pyplot as plt\n",
        "import pandas as pd\n",
        "import seaborn as sns\n",
        "from sklearn import datasets"
      ]
    },
    {
      "cell_type": "code",
      "source": [
        "df=pd.read_csv(\"insurance.csv\")"
      ],
      "metadata": {
        "id": "X-THcZo1SqmH"
      },
      "execution_count": 20,
      "outputs": []
    },
    {
      "cell_type": "markdown",
      "source": [
        "# EDA"
      ],
      "metadata": {
        "id": "1ID4TbeY12yE"
      }
    },
    {
      "cell_type": "code",
      "source": [
        "df.head()"
      ],
      "metadata": {
        "colab": {
          "base_uri": "https://localhost:8080/",
          "height": 206
        },
        "id": "sFDrr0NjS86y",
        "outputId": "97c581ca-4eeb-4343-a5cc-2473eb646dee"
      },
      "execution_count": 21,
      "outputs": [
        {
          "output_type": "execute_result",
          "data": {
            "text/plain": [
              "   age     sex     bmi  children smoker     region      charges\n",
              "0   19  female  27.900         0    yes  southwest  16884.92400\n",
              "1   18    male  33.770         1     no  southeast   1725.55230\n",
              "2   28    male  33.000         3     no  southeast   4449.46200\n",
              "3   33    male  22.705         0     no  northwest  21984.47061\n",
              "4   32    male  28.880         0     no  northwest   3866.85520"
            ],
            "text/html": [
              "\n",
              "  <div id=\"df-ef8826d7-9535-4271-a8a9-6166f2562ac7\" class=\"colab-df-container\">\n",
              "    <div>\n",
              "<style scoped>\n",
              "    .dataframe tbody tr th:only-of-type {\n",
              "        vertical-align: middle;\n",
              "    }\n",
              "\n",
              "    .dataframe tbody tr th {\n",
              "        vertical-align: top;\n",
              "    }\n",
              "\n",
              "    .dataframe thead th {\n",
              "        text-align: right;\n",
              "    }\n",
              "</style>\n",
              "<table border=\"1\" class=\"dataframe\">\n",
              "  <thead>\n",
              "    <tr style=\"text-align: right;\">\n",
              "      <th></th>\n",
              "      <th>age</th>\n",
              "      <th>sex</th>\n",
              "      <th>bmi</th>\n",
              "      <th>children</th>\n",
              "      <th>smoker</th>\n",
              "      <th>region</th>\n",
              "      <th>charges</th>\n",
              "    </tr>\n",
              "  </thead>\n",
              "  <tbody>\n",
              "    <tr>\n",
              "      <th>0</th>\n",
              "      <td>19</td>\n",
              "      <td>female</td>\n",
              "      <td>27.900</td>\n",
              "      <td>0</td>\n",
              "      <td>yes</td>\n",
              "      <td>southwest</td>\n",
              "      <td>16884.92400</td>\n",
              "    </tr>\n",
              "    <tr>\n",
              "      <th>1</th>\n",
              "      <td>18</td>\n",
              "      <td>male</td>\n",
              "      <td>33.770</td>\n",
              "      <td>1</td>\n",
              "      <td>no</td>\n",
              "      <td>southeast</td>\n",
              "      <td>1725.55230</td>\n",
              "    </tr>\n",
              "    <tr>\n",
              "      <th>2</th>\n",
              "      <td>28</td>\n",
              "      <td>male</td>\n",
              "      <td>33.000</td>\n",
              "      <td>3</td>\n",
              "      <td>no</td>\n",
              "      <td>southeast</td>\n",
              "      <td>4449.46200</td>\n",
              "    </tr>\n",
              "    <tr>\n",
              "      <th>3</th>\n",
              "      <td>33</td>\n",
              "      <td>male</td>\n",
              "      <td>22.705</td>\n",
              "      <td>0</td>\n",
              "      <td>no</td>\n",
              "      <td>northwest</td>\n",
              "      <td>21984.47061</td>\n",
              "    </tr>\n",
              "    <tr>\n",
              "      <th>4</th>\n",
              "      <td>32</td>\n",
              "      <td>male</td>\n",
              "      <td>28.880</td>\n",
              "      <td>0</td>\n",
              "      <td>no</td>\n",
              "      <td>northwest</td>\n",
              "      <td>3866.85520</td>\n",
              "    </tr>\n",
              "  </tbody>\n",
              "</table>\n",
              "</div>\n",
              "    <div class=\"colab-df-buttons\">\n",
              "\n",
              "  <div class=\"colab-df-container\">\n",
              "    <button class=\"colab-df-convert\" onclick=\"convertToInteractive('df-ef8826d7-9535-4271-a8a9-6166f2562ac7')\"\n",
              "            title=\"Convert this dataframe to an interactive table.\"\n",
              "            style=\"display:none;\">\n",
              "\n",
              "  <svg xmlns=\"http://www.w3.org/2000/svg\" height=\"24px\" viewBox=\"0 -960 960 960\">\n",
              "    <path d=\"M120-120v-720h720v720H120Zm60-500h600v-160H180v160Zm220 220h160v-160H400v160Zm0 220h160v-160H400v160ZM180-400h160v-160H180v160Zm440 0h160v-160H620v160ZM180-180h160v-160H180v160Zm440 0h160v-160H620v160Z\"/>\n",
              "  </svg>\n",
              "    </button>\n",
              "\n",
              "  <style>\n",
              "    .colab-df-container {\n",
              "      display:flex;\n",
              "      gap: 12px;\n",
              "    }\n",
              "\n",
              "    .colab-df-convert {\n",
              "      background-color: #E8F0FE;\n",
              "      border: none;\n",
              "      border-radius: 50%;\n",
              "      cursor: pointer;\n",
              "      display: none;\n",
              "      fill: #1967D2;\n",
              "      height: 32px;\n",
              "      padding: 0 0 0 0;\n",
              "      width: 32px;\n",
              "    }\n",
              "\n",
              "    .colab-df-convert:hover {\n",
              "      background-color: #E2EBFA;\n",
              "      box-shadow: 0px 1px 2px rgba(60, 64, 67, 0.3), 0px 1px 3px 1px rgba(60, 64, 67, 0.15);\n",
              "      fill: #174EA6;\n",
              "    }\n",
              "\n",
              "    .colab-df-buttons div {\n",
              "      margin-bottom: 4px;\n",
              "    }\n",
              "\n",
              "    [theme=dark] .colab-df-convert {\n",
              "      background-color: #3B4455;\n",
              "      fill: #D2E3FC;\n",
              "    }\n",
              "\n",
              "    [theme=dark] .colab-df-convert:hover {\n",
              "      background-color: #434B5C;\n",
              "      box-shadow: 0px 1px 3px 1px rgba(0, 0, 0, 0.15);\n",
              "      filter: drop-shadow(0px 1px 2px rgba(0, 0, 0, 0.3));\n",
              "      fill: #FFFFFF;\n",
              "    }\n",
              "  </style>\n",
              "\n",
              "    <script>\n",
              "      const buttonEl =\n",
              "        document.querySelector('#df-ef8826d7-9535-4271-a8a9-6166f2562ac7 button.colab-df-convert');\n",
              "      buttonEl.style.display =\n",
              "        google.colab.kernel.accessAllowed ? 'block' : 'none';\n",
              "\n",
              "      async function convertToInteractive(key) {\n",
              "        const element = document.querySelector('#df-ef8826d7-9535-4271-a8a9-6166f2562ac7');\n",
              "        const dataTable =\n",
              "          await google.colab.kernel.invokeFunction('convertToInteractive',\n",
              "                                                    [key], {});\n",
              "        if (!dataTable) return;\n",
              "\n",
              "        const docLinkHtml = 'Like what you see? Visit the ' +\n",
              "          '<a target=\"_blank\" href=https://colab.research.google.com/notebooks/data_table.ipynb>data table notebook</a>'\n",
              "          + ' to learn more about interactive tables.';\n",
              "        element.innerHTML = '';\n",
              "        dataTable['output_type'] = 'display_data';\n",
              "        await google.colab.output.renderOutput(dataTable, element);\n",
              "        const docLink = document.createElement('div');\n",
              "        docLink.innerHTML = docLinkHtml;\n",
              "        element.appendChild(docLink);\n",
              "      }\n",
              "    </script>\n",
              "  </div>\n",
              "\n",
              "\n",
              "<div id=\"df-f2769aed-2503-413f-a9cf-058c280f334b\">\n",
              "  <button class=\"colab-df-quickchart\" onclick=\"quickchart('df-f2769aed-2503-413f-a9cf-058c280f334b')\"\n",
              "            title=\"Suggest charts\"\n",
              "            style=\"display:none;\">\n",
              "\n",
              "<svg xmlns=\"http://www.w3.org/2000/svg\" height=\"24px\"viewBox=\"0 0 24 24\"\n",
              "     width=\"24px\">\n",
              "    <g>\n",
              "        <path d=\"M19 3H5c-1.1 0-2 .9-2 2v14c0 1.1.9 2 2 2h14c1.1 0 2-.9 2-2V5c0-1.1-.9-2-2-2zM9 17H7v-7h2v7zm4 0h-2V7h2v10zm4 0h-2v-4h2v4z\"/>\n",
              "    </g>\n",
              "</svg>\n",
              "  </button>\n",
              "\n",
              "<style>\n",
              "  .colab-df-quickchart {\n",
              "      --bg-color: #E8F0FE;\n",
              "      --fill-color: #1967D2;\n",
              "      --hover-bg-color: #E2EBFA;\n",
              "      --hover-fill-color: #174EA6;\n",
              "      --disabled-fill-color: #AAA;\n",
              "      --disabled-bg-color: #DDD;\n",
              "  }\n",
              "\n",
              "  [theme=dark] .colab-df-quickchart {\n",
              "      --bg-color: #3B4455;\n",
              "      --fill-color: #D2E3FC;\n",
              "      --hover-bg-color: #434B5C;\n",
              "      --hover-fill-color: #FFFFFF;\n",
              "      --disabled-bg-color: #3B4455;\n",
              "      --disabled-fill-color: #666;\n",
              "  }\n",
              "\n",
              "  .colab-df-quickchart {\n",
              "    background-color: var(--bg-color);\n",
              "    border: none;\n",
              "    border-radius: 50%;\n",
              "    cursor: pointer;\n",
              "    display: none;\n",
              "    fill: var(--fill-color);\n",
              "    height: 32px;\n",
              "    padding: 0;\n",
              "    width: 32px;\n",
              "  }\n",
              "\n",
              "  .colab-df-quickchart:hover {\n",
              "    background-color: var(--hover-bg-color);\n",
              "    box-shadow: 0 1px 2px rgba(60, 64, 67, 0.3), 0 1px 3px 1px rgba(60, 64, 67, 0.15);\n",
              "    fill: var(--button-hover-fill-color);\n",
              "  }\n",
              "\n",
              "  .colab-df-quickchart-complete:disabled,\n",
              "  .colab-df-quickchart-complete:disabled:hover {\n",
              "    background-color: var(--disabled-bg-color);\n",
              "    fill: var(--disabled-fill-color);\n",
              "    box-shadow: none;\n",
              "  }\n",
              "\n",
              "  .colab-df-spinner {\n",
              "    border: 2px solid var(--fill-color);\n",
              "    border-color: transparent;\n",
              "    border-bottom-color: var(--fill-color);\n",
              "    animation:\n",
              "      spin 1s steps(1) infinite;\n",
              "  }\n",
              "\n",
              "  @keyframes spin {\n",
              "    0% {\n",
              "      border-color: transparent;\n",
              "      border-bottom-color: var(--fill-color);\n",
              "      border-left-color: var(--fill-color);\n",
              "    }\n",
              "    20% {\n",
              "      border-color: transparent;\n",
              "      border-left-color: var(--fill-color);\n",
              "      border-top-color: var(--fill-color);\n",
              "    }\n",
              "    30% {\n",
              "      border-color: transparent;\n",
              "      border-left-color: var(--fill-color);\n",
              "      border-top-color: var(--fill-color);\n",
              "      border-right-color: var(--fill-color);\n",
              "    }\n",
              "    40% {\n",
              "      border-color: transparent;\n",
              "      border-right-color: var(--fill-color);\n",
              "      border-top-color: var(--fill-color);\n",
              "    }\n",
              "    60% {\n",
              "      border-color: transparent;\n",
              "      border-right-color: var(--fill-color);\n",
              "    }\n",
              "    80% {\n",
              "      border-color: transparent;\n",
              "      border-right-color: var(--fill-color);\n",
              "      border-bottom-color: var(--fill-color);\n",
              "    }\n",
              "    90% {\n",
              "      border-color: transparent;\n",
              "      border-bottom-color: var(--fill-color);\n",
              "    }\n",
              "  }\n",
              "</style>\n",
              "\n",
              "  <script>\n",
              "    async function quickchart(key) {\n",
              "      const quickchartButtonEl =\n",
              "        document.querySelector('#' + key + ' button');\n",
              "      quickchartButtonEl.disabled = true;  // To prevent multiple clicks.\n",
              "      quickchartButtonEl.classList.add('colab-df-spinner');\n",
              "      try {\n",
              "        const charts = await google.colab.kernel.invokeFunction(\n",
              "            'suggestCharts', [key], {});\n",
              "      } catch (error) {\n",
              "        console.error('Error during call to suggestCharts:', error);\n",
              "      }\n",
              "      quickchartButtonEl.classList.remove('colab-df-spinner');\n",
              "      quickchartButtonEl.classList.add('colab-df-quickchart-complete');\n",
              "    }\n",
              "    (() => {\n",
              "      let quickchartButtonEl =\n",
              "        document.querySelector('#df-f2769aed-2503-413f-a9cf-058c280f334b button');\n",
              "      quickchartButtonEl.style.display =\n",
              "        google.colab.kernel.accessAllowed ? 'block' : 'none';\n",
              "    })();\n",
              "  </script>\n",
              "</div>\n",
              "\n",
              "    </div>\n",
              "  </div>\n"
            ],
            "application/vnd.google.colaboratory.intrinsic+json": {
              "type": "dataframe",
              "variable_name": "df",
              "summary": "{\n  \"name\": \"df\",\n  \"rows\": 1338,\n  \"fields\": [\n    {\n      \"column\": \"age\",\n      \"properties\": {\n        \"dtype\": \"number\",\n        \"std\": 14,\n        \"min\": 18,\n        \"max\": 64,\n        \"num_unique_values\": 47,\n        \"samples\": [\n          21,\n          45,\n          36\n        ],\n        \"semantic_type\": \"\",\n        \"description\": \"\"\n      }\n    },\n    {\n      \"column\": \"sex\",\n      \"properties\": {\n        \"dtype\": \"category\",\n        \"num_unique_values\": 2,\n        \"samples\": [\n          \"male\",\n          \"female\"\n        ],\n        \"semantic_type\": \"\",\n        \"description\": \"\"\n      }\n    },\n    {\n      \"column\": \"bmi\",\n      \"properties\": {\n        \"dtype\": \"number\",\n        \"std\": 6.098186911679014,\n        \"min\": 15.96,\n        \"max\": 53.13,\n        \"num_unique_values\": 548,\n        \"samples\": [\n          23.18,\n          26.885\n        ],\n        \"semantic_type\": \"\",\n        \"description\": \"\"\n      }\n    },\n    {\n      \"column\": \"children\",\n      \"properties\": {\n        \"dtype\": \"number\",\n        \"std\": 1,\n        \"min\": 0,\n        \"max\": 5,\n        \"num_unique_values\": 6,\n        \"samples\": [\n          0,\n          1\n        ],\n        \"semantic_type\": \"\",\n        \"description\": \"\"\n      }\n    },\n    {\n      \"column\": \"smoker\",\n      \"properties\": {\n        \"dtype\": \"category\",\n        \"num_unique_values\": 2,\n        \"samples\": [\n          \"no\",\n          \"yes\"\n        ],\n        \"semantic_type\": \"\",\n        \"description\": \"\"\n      }\n    },\n    {\n      \"column\": \"region\",\n      \"properties\": {\n        \"dtype\": \"category\",\n        \"num_unique_values\": 4,\n        \"samples\": [\n          \"southeast\",\n          \"northeast\"\n        ],\n        \"semantic_type\": \"\",\n        \"description\": \"\"\n      }\n    },\n    {\n      \"column\": \"charges\",\n      \"properties\": {\n        \"dtype\": \"number\",\n        \"std\": 12110.011236694001,\n        \"min\": 1121.8739,\n        \"max\": 63770.42801,\n        \"num_unique_values\": 1337,\n        \"samples\": [\n          8688.85885,\n          5708.867\n        ],\n        \"semantic_type\": \"\",\n        \"description\": \"\"\n      }\n    }\n  ]\n}"
            }
          },
          "metadata": {},
          "execution_count": 21
        }
      ]
    },
    {
      "cell_type": "code",
      "source": [
        "df.info()"
      ],
      "metadata": {
        "colab": {
          "base_uri": "https://localhost:8080/"
        },
        "id": "iTKWZERrTHCT",
        "outputId": "aa56c7c9-4d0a-448c-a2ba-f229f1f60142"
      },
      "execution_count": 26,
      "outputs": [
        {
          "output_type": "stream",
          "name": "stdout",
          "text": [
            "<class 'pandas.core.frame.DataFrame'>\n",
            "RangeIndex: 1338 entries, 0 to 1337\n",
            "Data columns (total 7 columns):\n",
            " #   Column    Non-Null Count  Dtype  \n",
            "---  ------    --------------  -----  \n",
            " 0   age       1338 non-null   int64  \n",
            " 1   sex       1338 non-null   int64  \n",
            " 2   bmi       1338 non-null   float64\n",
            " 3   children  1338 non-null   int64  \n",
            " 4   smoker    1338 non-null   int64  \n",
            " 5   region    1338 non-null   int64  \n",
            " 6   charges   1338 non-null   float64\n",
            "dtypes: float64(2), int64(5)\n",
            "memory usage: 73.3 KB\n"
          ]
        }
      ]
    },
    {
      "cell_type": "code",
      "source": [
        "df.count()"
      ],
      "metadata": {
        "colab": {
          "base_uri": "https://localhost:8080/"
        },
        "id": "7tR0sYtcTItl",
        "outputId": "860e13b1-c114-4a04-9dbf-bafbe0483c39"
      },
      "execution_count": 5,
      "outputs": [
        {
          "output_type": "execute_result",
          "data": {
            "text/plain": [
              "age         1338\n",
              "sex         1338\n",
              "bmi         1338\n",
              "children    1338\n",
              "smoker      1338\n",
              "region      1338\n",
              "charges     1338\n",
              "dtype: int64"
            ]
          },
          "metadata": {},
          "execution_count": 5
        }
      ]
    },
    {
      "cell_type": "code",
      "source": [
        "df.describe()"
      ],
      "metadata": {
        "colab": {
          "base_uri": "https://localhost:8080/",
          "height": 300
        },
        "id": "1tAmJzUwTKuv",
        "outputId": "63468215-5ce7-41a2-ea1a-e2c5d7ead284"
      },
      "execution_count": 6,
      "outputs": [
        {
          "output_type": "execute_result",
          "data": {
            "text/plain": [
              "               age          bmi     children       charges\n",
              "count  1338.000000  1338.000000  1338.000000   1338.000000\n",
              "mean     39.207025    30.663397     1.094918  13270.422265\n",
              "std      14.049960     6.098187     1.205493  12110.011237\n",
              "min      18.000000    15.960000     0.000000   1121.873900\n",
              "25%      27.000000    26.296250     0.000000   4740.287150\n",
              "50%      39.000000    30.400000     1.000000   9382.033000\n",
              "75%      51.000000    34.693750     2.000000  16639.912515\n",
              "max      64.000000    53.130000     5.000000  63770.428010"
            ],
            "text/html": [
              "\n",
              "  <div id=\"df-44eaebba-0c0f-493f-8314-619e87ca90c2\" class=\"colab-df-container\">\n",
              "    <div>\n",
              "<style scoped>\n",
              "    .dataframe tbody tr th:only-of-type {\n",
              "        vertical-align: middle;\n",
              "    }\n",
              "\n",
              "    .dataframe tbody tr th {\n",
              "        vertical-align: top;\n",
              "    }\n",
              "\n",
              "    .dataframe thead th {\n",
              "        text-align: right;\n",
              "    }\n",
              "</style>\n",
              "<table border=\"1\" class=\"dataframe\">\n",
              "  <thead>\n",
              "    <tr style=\"text-align: right;\">\n",
              "      <th></th>\n",
              "      <th>age</th>\n",
              "      <th>bmi</th>\n",
              "      <th>children</th>\n",
              "      <th>charges</th>\n",
              "    </tr>\n",
              "  </thead>\n",
              "  <tbody>\n",
              "    <tr>\n",
              "      <th>count</th>\n",
              "      <td>1338.000000</td>\n",
              "      <td>1338.000000</td>\n",
              "      <td>1338.000000</td>\n",
              "      <td>1338.000000</td>\n",
              "    </tr>\n",
              "    <tr>\n",
              "      <th>mean</th>\n",
              "      <td>39.207025</td>\n",
              "      <td>30.663397</td>\n",
              "      <td>1.094918</td>\n",
              "      <td>13270.422265</td>\n",
              "    </tr>\n",
              "    <tr>\n",
              "      <th>std</th>\n",
              "      <td>14.049960</td>\n",
              "      <td>6.098187</td>\n",
              "      <td>1.205493</td>\n",
              "      <td>12110.011237</td>\n",
              "    </tr>\n",
              "    <tr>\n",
              "      <th>min</th>\n",
              "      <td>18.000000</td>\n",
              "      <td>15.960000</td>\n",
              "      <td>0.000000</td>\n",
              "      <td>1121.873900</td>\n",
              "    </tr>\n",
              "    <tr>\n",
              "      <th>25%</th>\n",
              "      <td>27.000000</td>\n",
              "      <td>26.296250</td>\n",
              "      <td>0.000000</td>\n",
              "      <td>4740.287150</td>\n",
              "    </tr>\n",
              "    <tr>\n",
              "      <th>50%</th>\n",
              "      <td>39.000000</td>\n",
              "      <td>30.400000</td>\n",
              "      <td>1.000000</td>\n",
              "      <td>9382.033000</td>\n",
              "    </tr>\n",
              "    <tr>\n",
              "      <th>75%</th>\n",
              "      <td>51.000000</td>\n",
              "      <td>34.693750</td>\n",
              "      <td>2.000000</td>\n",
              "      <td>16639.912515</td>\n",
              "    </tr>\n",
              "    <tr>\n",
              "      <th>max</th>\n",
              "      <td>64.000000</td>\n",
              "      <td>53.130000</td>\n",
              "      <td>5.000000</td>\n",
              "      <td>63770.428010</td>\n",
              "    </tr>\n",
              "  </tbody>\n",
              "</table>\n",
              "</div>\n",
              "    <div class=\"colab-df-buttons\">\n",
              "\n",
              "  <div class=\"colab-df-container\">\n",
              "    <button class=\"colab-df-convert\" onclick=\"convertToInteractive('df-44eaebba-0c0f-493f-8314-619e87ca90c2')\"\n",
              "            title=\"Convert this dataframe to an interactive table.\"\n",
              "            style=\"display:none;\">\n",
              "\n",
              "  <svg xmlns=\"http://www.w3.org/2000/svg\" height=\"24px\" viewBox=\"0 -960 960 960\">\n",
              "    <path d=\"M120-120v-720h720v720H120Zm60-500h600v-160H180v160Zm220 220h160v-160H400v160Zm0 220h160v-160H400v160ZM180-400h160v-160H180v160Zm440 0h160v-160H620v160ZM180-180h160v-160H180v160Zm440 0h160v-160H620v160Z\"/>\n",
              "  </svg>\n",
              "    </button>\n",
              "\n",
              "  <style>\n",
              "    .colab-df-container {\n",
              "      display:flex;\n",
              "      gap: 12px;\n",
              "    }\n",
              "\n",
              "    .colab-df-convert {\n",
              "      background-color: #E8F0FE;\n",
              "      border: none;\n",
              "      border-radius: 50%;\n",
              "      cursor: pointer;\n",
              "      display: none;\n",
              "      fill: #1967D2;\n",
              "      height: 32px;\n",
              "      padding: 0 0 0 0;\n",
              "      width: 32px;\n",
              "    }\n",
              "\n",
              "    .colab-df-convert:hover {\n",
              "      background-color: #E2EBFA;\n",
              "      box-shadow: 0px 1px 2px rgba(60, 64, 67, 0.3), 0px 1px 3px 1px rgba(60, 64, 67, 0.15);\n",
              "      fill: #174EA6;\n",
              "    }\n",
              "\n",
              "    .colab-df-buttons div {\n",
              "      margin-bottom: 4px;\n",
              "    }\n",
              "\n",
              "    [theme=dark] .colab-df-convert {\n",
              "      background-color: #3B4455;\n",
              "      fill: #D2E3FC;\n",
              "    }\n",
              "\n",
              "    [theme=dark] .colab-df-convert:hover {\n",
              "      background-color: #434B5C;\n",
              "      box-shadow: 0px 1px 3px 1px rgba(0, 0, 0, 0.15);\n",
              "      filter: drop-shadow(0px 1px 2px rgba(0, 0, 0, 0.3));\n",
              "      fill: #FFFFFF;\n",
              "    }\n",
              "  </style>\n",
              "\n",
              "    <script>\n",
              "      const buttonEl =\n",
              "        document.querySelector('#df-44eaebba-0c0f-493f-8314-619e87ca90c2 button.colab-df-convert');\n",
              "      buttonEl.style.display =\n",
              "        google.colab.kernel.accessAllowed ? 'block' : 'none';\n",
              "\n",
              "      async function convertToInteractive(key) {\n",
              "        const element = document.querySelector('#df-44eaebba-0c0f-493f-8314-619e87ca90c2');\n",
              "        const dataTable =\n",
              "          await google.colab.kernel.invokeFunction('convertToInteractive',\n",
              "                                                    [key], {});\n",
              "        if (!dataTable) return;\n",
              "\n",
              "        const docLinkHtml = 'Like what you see? Visit the ' +\n",
              "          '<a target=\"_blank\" href=https://colab.research.google.com/notebooks/data_table.ipynb>data table notebook</a>'\n",
              "          + ' to learn more about interactive tables.';\n",
              "        element.innerHTML = '';\n",
              "        dataTable['output_type'] = 'display_data';\n",
              "        await google.colab.output.renderOutput(dataTable, element);\n",
              "        const docLink = document.createElement('div');\n",
              "        docLink.innerHTML = docLinkHtml;\n",
              "        element.appendChild(docLink);\n",
              "      }\n",
              "    </script>\n",
              "  </div>\n",
              "\n",
              "\n",
              "<div id=\"df-2f9d6944-0a84-4068-8ceb-d49427b31a06\">\n",
              "  <button class=\"colab-df-quickchart\" onclick=\"quickchart('df-2f9d6944-0a84-4068-8ceb-d49427b31a06')\"\n",
              "            title=\"Suggest charts\"\n",
              "            style=\"display:none;\">\n",
              "\n",
              "<svg xmlns=\"http://www.w3.org/2000/svg\" height=\"24px\"viewBox=\"0 0 24 24\"\n",
              "     width=\"24px\">\n",
              "    <g>\n",
              "        <path d=\"M19 3H5c-1.1 0-2 .9-2 2v14c0 1.1.9 2 2 2h14c1.1 0 2-.9 2-2V5c0-1.1-.9-2-2-2zM9 17H7v-7h2v7zm4 0h-2V7h2v10zm4 0h-2v-4h2v4z\"/>\n",
              "    </g>\n",
              "</svg>\n",
              "  </button>\n",
              "\n",
              "<style>\n",
              "  .colab-df-quickchart {\n",
              "      --bg-color: #E8F0FE;\n",
              "      --fill-color: #1967D2;\n",
              "      --hover-bg-color: #E2EBFA;\n",
              "      --hover-fill-color: #174EA6;\n",
              "      --disabled-fill-color: #AAA;\n",
              "      --disabled-bg-color: #DDD;\n",
              "  }\n",
              "\n",
              "  [theme=dark] .colab-df-quickchart {\n",
              "      --bg-color: #3B4455;\n",
              "      --fill-color: #D2E3FC;\n",
              "      --hover-bg-color: #434B5C;\n",
              "      --hover-fill-color: #FFFFFF;\n",
              "      --disabled-bg-color: #3B4455;\n",
              "      --disabled-fill-color: #666;\n",
              "  }\n",
              "\n",
              "  .colab-df-quickchart {\n",
              "    background-color: var(--bg-color);\n",
              "    border: none;\n",
              "    border-radius: 50%;\n",
              "    cursor: pointer;\n",
              "    display: none;\n",
              "    fill: var(--fill-color);\n",
              "    height: 32px;\n",
              "    padding: 0;\n",
              "    width: 32px;\n",
              "  }\n",
              "\n",
              "  .colab-df-quickchart:hover {\n",
              "    background-color: var(--hover-bg-color);\n",
              "    box-shadow: 0 1px 2px rgba(60, 64, 67, 0.3), 0 1px 3px 1px rgba(60, 64, 67, 0.15);\n",
              "    fill: var(--button-hover-fill-color);\n",
              "  }\n",
              "\n",
              "  .colab-df-quickchart-complete:disabled,\n",
              "  .colab-df-quickchart-complete:disabled:hover {\n",
              "    background-color: var(--disabled-bg-color);\n",
              "    fill: var(--disabled-fill-color);\n",
              "    box-shadow: none;\n",
              "  }\n",
              "\n",
              "  .colab-df-spinner {\n",
              "    border: 2px solid var(--fill-color);\n",
              "    border-color: transparent;\n",
              "    border-bottom-color: var(--fill-color);\n",
              "    animation:\n",
              "      spin 1s steps(1) infinite;\n",
              "  }\n",
              "\n",
              "  @keyframes spin {\n",
              "    0% {\n",
              "      border-color: transparent;\n",
              "      border-bottom-color: var(--fill-color);\n",
              "      border-left-color: var(--fill-color);\n",
              "    }\n",
              "    20% {\n",
              "      border-color: transparent;\n",
              "      border-left-color: var(--fill-color);\n",
              "      border-top-color: var(--fill-color);\n",
              "    }\n",
              "    30% {\n",
              "      border-color: transparent;\n",
              "      border-left-color: var(--fill-color);\n",
              "      border-top-color: var(--fill-color);\n",
              "      border-right-color: var(--fill-color);\n",
              "    }\n",
              "    40% {\n",
              "      border-color: transparent;\n",
              "      border-right-color: var(--fill-color);\n",
              "      border-top-color: var(--fill-color);\n",
              "    }\n",
              "    60% {\n",
              "      border-color: transparent;\n",
              "      border-right-color: var(--fill-color);\n",
              "    }\n",
              "    80% {\n",
              "      border-color: transparent;\n",
              "      border-right-color: var(--fill-color);\n",
              "      border-bottom-color: var(--fill-color);\n",
              "    }\n",
              "    90% {\n",
              "      border-color: transparent;\n",
              "      border-bottom-color: var(--fill-color);\n",
              "    }\n",
              "  }\n",
              "</style>\n",
              "\n",
              "  <script>\n",
              "    async function quickchart(key) {\n",
              "      const quickchartButtonEl =\n",
              "        document.querySelector('#' + key + ' button');\n",
              "      quickchartButtonEl.disabled = true;  // To prevent multiple clicks.\n",
              "      quickchartButtonEl.classList.add('colab-df-spinner');\n",
              "      try {\n",
              "        const charts = await google.colab.kernel.invokeFunction(\n",
              "            'suggestCharts', [key], {});\n",
              "      } catch (error) {\n",
              "        console.error('Error during call to suggestCharts:', error);\n",
              "      }\n",
              "      quickchartButtonEl.classList.remove('colab-df-spinner');\n",
              "      quickchartButtonEl.classList.add('colab-df-quickchart-complete');\n",
              "    }\n",
              "    (() => {\n",
              "      let quickchartButtonEl =\n",
              "        document.querySelector('#df-2f9d6944-0a84-4068-8ceb-d49427b31a06 button');\n",
              "      quickchartButtonEl.style.display =\n",
              "        google.colab.kernel.accessAllowed ? 'block' : 'none';\n",
              "    })();\n",
              "  </script>\n",
              "</div>\n",
              "\n",
              "    </div>\n",
              "  </div>\n"
            ],
            "application/vnd.google.colaboratory.intrinsic+json": {
              "type": "dataframe",
              "summary": "{\n  \"name\": \"df\",\n  \"rows\": 8,\n  \"fields\": [\n    {\n      \"column\": \"age\",\n      \"properties\": {\n        \"dtype\": \"number\",\n        \"std\": 460.6106090399993,\n        \"min\": 14.049960379216154,\n        \"max\": 1338.0,\n        \"num_unique_values\": 8,\n        \"samples\": [\n          39.20702541106129,\n          39.0,\n          1338.0\n        ],\n        \"semantic_type\": \"\",\n        \"description\": \"\"\n      }\n    },\n    {\n      \"column\": \"bmi\",\n      \"properties\": {\n        \"dtype\": \"number\",\n        \"std\": 463.29524977918294,\n        \"min\": 6.098186911679014,\n        \"max\": 1338.0,\n        \"num_unique_values\": 8,\n        \"samples\": [\n          30.66339686098655,\n          30.4,\n          1338.0\n        ],\n        \"semantic_type\": \"\",\n        \"description\": \"\"\n      }\n    },\n    {\n      \"column\": \"children\",\n      \"properties\": {\n        \"dtype\": \"number\",\n        \"std\": 472.5368318870757,\n        \"min\": 0.0,\n        \"max\": 1338.0,\n        \"num_unique_values\": 7,\n        \"samples\": [\n          1338.0,\n          1.0949177877429,\n          2.0\n        ],\n        \"semantic_type\": \"\",\n        \"description\": \"\"\n      }\n    },\n    {\n      \"column\": \"charges\",\n      \"properties\": {\n        \"dtype\": \"number\",\n        \"std\": 20381.922846226596,\n        \"min\": 1121.8739,\n        \"max\": 63770.42801,\n        \"num_unique_values\": 8,\n        \"samples\": [\n          13270.422265141257,\n          9382.033,\n          1338.0\n        ],\n        \"semantic_type\": \"\",\n        \"description\": \"\"\n      }\n    }\n  ]\n}"
            }
          },
          "metadata": {},
          "execution_count": 6
        }
      ]
    },
    {
      "cell_type": "code",
      "source": [
        "plt.hist(df[\"charges\"])"
      ],
      "metadata": {
        "colab": {
          "base_uri": "https://localhost:8080/",
          "height": 517
        },
        "id": "1NdMIudLTN4Q",
        "outputId": "d919f634-1ab2-4625-8ab7-427f17955cd2"
      },
      "execution_count": 11,
      "outputs": [
        {
          "output_type": "execute_result",
          "data": {
            "text/plain": [
              "(array([536., 398., 129.,  86.,  35.,  59.,  57.,  32.,   2.,   4.]),\n",
              " array([ 1121.8739  ,  7386.729311, 13651.584722, 19916.440133,\n",
              "        26181.295544, 32446.150955, 38711.006366, 44975.861777,\n",
              "        51240.717188, 57505.572599, 63770.42801 ]),\n",
              " <BarContainer object of 10 artists>)"
            ]
          },
          "metadata": {},
          "execution_count": 11
        },
        {
          "output_type": "display_data",
          "data": {
            "text/plain": [
              "<Figure size 640x480 with 1 Axes>"
            ],
            "image/png": "[encoded data removed]"
          },
          "metadata": {}
        }
      ]
    },
    {
      "cell_type": "code",
      "source": [
        "df['sex'] = df['sex'].map({'female': 1, 'male': 0})"
      ],
      "metadata": {
        "id": "tR5eEhDVV7iP"
      },
      "execution_count": 22,
      "outputs": []
    },
    {
      "cell_type": "code",
      "source": [
        "df['smoker'] = df['smoker'].map({'yes': 1, 'no': 0})"
      ],
      "metadata": {
        "id": "FRLQBEScWGiG"
      },
      "execution_count": 23,
      "outputs": []
    },
    {
      "cell_type": "code",
      "source": [
        "df['region'].unique()"
      ],
      "metadata": {
        "colab": {
          "base_uri": "https://localhost:8080/"
        },
        "id": "rFOANrb5WQuA",
        "outputId": "1a2c0b91-353a-4d44-c64a-eb271775e3b0"
      },
      "execution_count": 24,
      "outputs": [
        {
          "output_type": "execute_result",
          "data": {
            "text/plain": [
              "array(['southwest', 'southeast', 'northwest', 'northeast'], dtype=object)"
            ]
          },
          "metadata": {},
          "execution_count": 24
        }
      ]
    },
    {
      "cell_type": "code",
      "source": [
        "df['region'] = df['region'].map({'southwest': 1, 'southeast': 2,'northwest':3,'northeast':4})"
      ],
      "metadata": {
        "id": "i8ct4oVWWw1o"
      },
      "execution_count": 25,
      "outputs": []
    },
    {
      "cell_type": "code",
      "source": [
        "sns.heatmap(df.corr(), annot=True)"
      ],
      "metadata": {
        "colab": {
          "base_uri": "https://localhost:8080/",
          "height": 452
        },
        "id": "d6K3uj-RVadR",
        "outputId": "fbb70f4d-0cd5-4b0e-fdb3-fce67eee2d55"
      },
      "execution_count": 17,
      "outputs": [
        {
          "output_type": "execute_result",
          "data": {
            "text/plain": [
              "<Axes: >"
            ]
          },
          "metadata": {},
          "execution_count": 17
        },
        {
          "output_type": "display_data",
          "data": {
            "text/plain": [
              "<Figure size 640x480 with 2 Axes>"
            ],
            "image/png": "[encoded data removed]"
          },
          "metadata": {}
        }
      ]
    },
    {
      "cell_type": "markdown",
      "source": [
        "# Linear Regression"
      ],
      "metadata": {
        "id": "NvvDJviw2IQ3"
      }
    },
    {
      "cell_type": "code",
      "source": [
        "x=df.drop(\"charges\", axis=1)\n",
        "y=df[\"charges\"]"
      ],
      "metadata": {
        "id": "hTQjtnFKXS6T"
      },
      "execution_count": 27,
      "outputs": []
    },
    {
      "cell_type": "code",
      "source": [
        "from sklearn.model_selection import train_test_split\n",
        "xtrain,xtest,ytrain,ytest=train_test_split(x,y,test_size=0.3,random_state=23)"
      ],
      "metadata": {
        "id": "Xdtj_lTXXGKZ"
      },
      "execution_count": 28,
      "outputs": []
    },
    {
      "cell_type": "code",
      "source": [
        "from sklearn.linear_model import LinearRegression\n",
        "lm=LinearRegression()"
      ],
      "metadata": {
        "id": "G_gI5ydxXvBm"
      },
      "execution_count": 29,
      "outputs": []
    },
    {
      "cell_type": "code",
      "source": [
        "lm.fit(xtrain,ytrain)"
      ],
      "metadata": {
        "colab": {
          "base_uri": "https://localhost:8080/",
          "height": 74
        },
        "id": "M40gHL7zYC3m",
        "outputId": "5cae2b3b-6618-4236-85aa-e8a54d75dc2d"
      },
      "execution_count": 30,
      "outputs": [
        {
          "output_type": "execute_result",
          "data": {
            "text/plain": [
              "LinearRegression()"
            ],
            "text/html": [
              "<style>#sk-container-id-1 {color: black;background-color: white;}#sk-container-id-1 pre{padding: 0;}#sk-container-id-1 div.sk-toggleable {background-color: white;}#sk-container-id-1 label.sk-toggleable__label {cursor: pointer;display: block;width: 100%;margin-bottom: 0;padding: 0.3em;box-sizing: border-box;text-align: center;}#sk-container-id-1 label.sk-toggleable__label-arrow:before {content: \"▸\";float: left;margin-right: 0.25em;color: #696969;}#sk-container-id-1 label.sk-toggleable__label-arrow:hover:before {color: black;}#sk-container-id-1 div.sk-estimator:hover label.sk-toggleable__label-arrow:before {color: black;}#sk-container-id-1 div.sk-toggleable__content {max-height: 0;max-width: 0;overflow: hidden;text-align: left;background-color: #f0f8ff;}#sk-container-id-1 div.sk-toggleable__content pre {margin: 0.2em;color: black;border-radius: 0.25em;background-color: #f0f8ff;}#sk-container-id-1 input.sk-toggleable__control:checked~div.sk-toggleable__content {max-height: 200px;max-width: 100%;overflow: auto;}#sk-container-id-1 input.sk-toggleable__control:checked~label.sk-toggleable__label-arrow:before {content: \"▾\";}#sk-container-id-1 div.sk-estimator input.sk-toggleable__control:checked~label.sk-toggleable__label {background-color: #d4ebff;}#sk-container-id-1 div.sk-label input.sk-toggleable__control:checked~label.sk-toggleable__label {background-color: #d4ebff;}#sk-container-id-1 input.sk-hidden--visually {border: 0;clip: rect(1px 1px 1px 1px);clip: rect(1px, 1px, 1px, 1px);height: 1px;margin: -1px;overflow: hidden;padding: 0;position: absolute;width: 1px;}#sk-container-id-1 div.sk-estimator {font-family: monospace;background-color: #f0f8ff;border: 1px dotted black;border-radius: 0.25em;box-sizing: border-box;margin-bottom: 0.5em;}#sk-container-id-1 div.sk-estimator:hover {background-color: #d4ebff;}#sk-container-id-1 div.sk-parallel-item::after {content: \"\";width: 100%;border-bottom: 1px solid gray;flex-grow: 1;}#sk-container-id-1 div.sk-label:hover label.sk-toggleable__label {background-color: #d4ebff;}#sk-container-id-1 div.sk-serial::before {content: \"\";position: absolute;border-left: 1px solid gray;box-sizing: border-box;top: 0;bottom: 0;left: 50%;z-index: 0;}#sk-container-id-1 div.sk-serial {display: flex;flex-direction: column;align-items: center;background-color: white;padding-right: 0.2em;padding-left: 0.2em;position: relative;}#sk-container-id-1 div.sk-item {position: relative;z-index: 1;}#sk-container-id-1 div.sk-parallel {display: flex;align-items: stretch;justify-content: center;background-color: white;position: relative;}#sk-container-id-1 div.sk-item::before, #sk-container-id-1 div.sk-parallel-item::before {content: \"\";position: absolute;border-left: 1px solid gray;box-sizing: border-box;top: 0;bottom: 0;left: 50%;z-index: -1;}#sk-container-id-1 div.sk-parallel-item {display: flex;flex-direction: column;z-index: 1;position: relative;background-color: white;}#sk-container-id-1 div.sk-parallel-item:first-child::after {align-self: flex-end;width: 50%;}#sk-container-id-1 div.sk-parallel-item:last-child::after {align-self: flex-start;width: 50%;}#sk-container-id-1 div.sk-parallel-item:only-child::after {width: 0;}#sk-container-id-1 div.sk-dashed-wrapped {border: 1px dashed gray;margin: 0 0.4em 0.5em 0.4em;box-sizing: border-box;padding-bottom: 0.4em;background-color: white;}#sk-container-id-1 div.sk-label label {font-family: monospace;font-weight: bold;display: inline-block;line-height: 1.2em;}#sk-container-id-1 div.sk-label-container {text-align: center;}#sk-container-id-1 div.sk-container {/* jupyter's `normalize.less` sets `[hidden] { display: none; }` but bootstrap.min.css set `[hidden] { display: none !important; }` so we also need the `!important` here to be able to override the default hidden behavior on the sphinx rendered scikit-learn.org. See: https://github.com/scikit-learn/scikit-learn/issues/21755 */display: inline-block !important;position: relative;}#sk-container-id-1 div.sk-text-repr-fallback {display: none;}</style><div id=\"sk-container-id-1\" class=\"sk-top-container\"><div class=\"sk-text-repr-fallback\"><pre>LinearRegression()</pre><b>In a Jupyter environment, please rerun this cell to show the HTML representation or trust the notebook. <br />On GitHub, the HTML representation is unable to render, please try loading this page with nbviewer.org.</b></div><div class=\"sk-container\" hidden><div class=\"sk-item\"><div class=\"sk-estimator sk-toggleable\"><input class=\"sk-toggleable__control sk-hidden--visually\" id=\"sk-estimator-id-1\" type=\"checkbox\" checked><label for=\"sk-estimator-id-1\" class=\"sk-toggleable__label sk-toggleable__label-arrow\">LinearRegression</label><div class=\"sk-toggleable__content\"><pre>LinearRegression()</pre></div></div></div></div></div>"
            ]
          },
          "metadata": {},
          "execution_count": 30
        }
      ]
    },
    {
      "cell_type": "code",
      "source": [
        "predictions=lm.predict(xtest)\n",
        "predictions"
      ],
      "metadata": {
        "colab": {
          "base_uri": "https://localhost:8080/"
        },
        "id": "XJc96ANRYH_Z",
        "outputId": "70848dd9-ad39-4ef3-8fb4-562a5ffeb3bd"
      },
      "execution_count": 31,
      "outputs": [
        {
          "output_type": "execute_result",
          "data": {
            "text/plain": [
              "array([ 1.14891823e+04,  6.40909856e+03,  3.16603449e+04,  1.00628632e+04,\n",
              "        8.10876223e+03,  9.37157925e+03,  3.58055813e+04,  8.45771081e+03,\n",
              "        1.29944467e+04,  3.96966715e+04,  1.57050470e+03,  3.70507718e+04,\n",
              "        4.23657419e+03,  1.23385786e+04,  8.12482192e+03,  5.08395167e+03,\n",
              "        5.35402656e+03,  3.53259179e+03,  3.54168239e+04,  3.32162171e+04,\n",
              "        3.89611414e+04,  1.35122961e+04,  8.16992141e+03,  9.70512987e+03,\n",
              "        3.59253106e+04,  7.03079293e+03,  5.24782428e+03,  2.93211582e+04,\n",
              "        5.51087549e+02,  1.13129683e+04,  1.36495384e+04,  4.93242756e+03,\n",
              "        3.86648203e+03,  1.19644550e+04,  8.95700850e+03,  2.92567495e+04,\n",
              "        1.12024047e+04,  1.06305280e+04,  9.76292042e+03,  4.46165136e+03,\n",
              "        1.08676803e+04,  3.42958650e+04,  1.12233816e+04,  3.19061467e+04,\n",
              "        1.13116850e+04,  1.35173352e+04,  4.40133325e+03,  5.43935233e+03,\n",
              "        8.70107859e+03,  5.32477050e+03,  1.34567243e+04,  8.96597805e+03,\n",
              "        1.03461062e+04,  5.66565661e+03,  6.32216799e+03,  1.45681041e+04,\n",
              "        1.43053043e+04,  1.19965535e+04,  7.54612360e+03,  2.79045131e+04,\n",
              "        2.98158308e+04,  5.88056983e+03,  3.43630489e+03,  6.22323014e+03,\n",
              "        3.28259801e+03,  6.75215595e+03,  4.95284979e+03,  4.43369919e+03,\n",
              "        4.17796538e+03,  2.48455499e+04,  7.38288343e+03,  3.45859496e+04,\n",
              "        8.58012321e+03,  3.10172901e+04,  2.36902657e+03,  5.87644415e+03,\n",
              "        1.01178214e+04,  4.13369293e+03,  6.71370180e+03,  4.39835117e+03,\n",
              "        1.25443036e+04,  3.57107855e+03,  3.08399494e+04,  1.54931000e+04,\n",
              "        6.89983043e+03,  9.72197852e+03,  1.68596416e+04,  3.84878995e+04,\n",
              "        2.72372582e+03,  3.60303582e+04,  7.18930883e+03,  1.20354859e+04,\n",
              "        1.10829928e+03,  1.00168576e+04,  3.62910159e+04,  5.41374837e+02,\n",
              "        1.90631947e+03,  5.01808853e+03,  2.84773590e+04, -1.94381088e+03,\n",
              "        1.14682231e+04,  6.75381640e+03,  5.79245115e+02,  8.73960729e+03,\n",
              "        1.17692862e+04,  9.80274202e+03,  8.64823118e+03,  1.77609349e+03,\n",
              "        4.27511761e+03,  7.71638562e+03,  2.62363469e+04,  1.00301131e+04,\n",
              "        7.03760033e+03,  9.91071866e+03,  1.25175380e+04,  4.58986813e+03,\n",
              "        4.06412697e+04,  1.44153459e+04,  2.98415678e+04,  4.63124592e+03,\n",
              "        1.14444438e+04,  1.07677602e+04,  1.01704570e+04,  5.31681576e+03,\n",
              "        3.35665319e+03,  2.07352931e+03,  3.25047895e+03,  3.40991235e+04,\n",
              "        9.51642457e+03,  2.74013380e+04,  3.35398778e+04,  7.76355399e+02,\n",
              "        1.07196683e+04,  5.40418222e+03,  9.35364015e+03,  4.82117881e+02,\n",
              "        2.79577198e+03,  1.02966302e+04,  2.17997848e+03,  2.70939974e+03,\n",
              "        1.36171657e+04,  1.64856431e+04,  1.63661406e+04,  1.08142783e+04,\n",
              "        8.26139175e+03,  6.88337592e+03,  3.69124243e+04,  5.15444587e+03,\n",
              "        2.61284932e+02,  6.96280154e+03,  1.07793830e+04,  1.44667966e+04,\n",
              "        4.03880761e+03,  1.14331415e+04,  2.57900932e+04,  2.89687888e+03,\n",
              "        3.86664205e+03,  8.16257952e+03,  7.22882066e+03,  6.09866759e+03,\n",
              "        3.75525825e+03,  6.04803047e+03,  8.29989229e+01,  1.43926676e+04,\n",
              "        9.34512344e+03,  6.72477683e+03,  3.43345574e+04,  3.77013530e+03,\n",
              "        1.46750808e+03,  1.03864454e+04,  2.53431230e+03,  1.37689716e+04,\n",
              "        3.05269170e+03,  4.61749857e+03,  3.88331873e+03,  7.16297105e+03,\n",
              "        1.03181160e+04,  5.32605427e+03,  1.21287566e+04,  6.69833866e+03,\n",
              "        9.57975916e+03,  7.95824969e+03,  3.38111137e+04,  8.14413180e+02,\n",
              "        1.20453377e+04,  1.30328081e+04,  2.02263445e+03,  1.06063673e+04,\n",
              "        2.38349568e+04,  2.67999132e+04,  1.19561901e+04,  3.42277386e+04,\n",
              "        1.24349285e+04,  7.40324627e+03,  6.59219653e+03,  3.38712474e+04,\n",
              "        9.16511431e+03,  9.65978391e+03,  1.07681713e+04,  1.13134562e+04,\n",
              "        2.67891087e+04,  3.23081385e+04, -1.01334973e+03,  3.49652168e+03,\n",
              "        6.66465109e+03,  3.87105097e+03,  3.06853807e+04,  1.06191615e+04,\n",
              "        3.26752624e+04,  1.25947940e+04,  2.64542709e+04,  5.78179686e+03,\n",
              "        7.18262954e+03,  4.95740127e+03,  7.62462964e+03,  2.83275029e+04,\n",
              "        2.64802060e+04,  6.31932874e+03,  1.05103205e+04,  1.39624726e+04,\n",
              "        1.59134596e+04,  1.60854240e+04,  7.16167715e+03,  3.23709642e+04,\n",
              "        5.69799076e+03,  1.07276479e+04,  5.40687716e+03,  1.32224525e+04,\n",
              "        1.71748050e+03,  1.90729304e+04,  2.88592576e+04,  2.72059788e+04,\n",
              "        7.64206910e+03,  4.30746247e+03,  3.88223150e+03,  8.32276005e+03,\n",
              "        8.67950972e+03,  7.86838489e+03,  5.64335353e+03,  3.53493580e+04,\n",
              "        2.53602728e+03,  9.03365704e+03,  1.11261869e+04,  1.60813147e+04,\n",
              "        1.03187210e+04,  1.01536827e+04,  2.99259877e+04,  5.35380616e+03,\n",
              "        9.80789429e+03,  3.99594828e+03,  4.94738019e+02,  1.15592931e+04,\n",
              "        6.66520843e+03,  4.36755782e+03,  7.68259574e+03,  2.82406639e+04,\n",
              "        1.29057413e+04,  1.10945282e+04,  7.12422319e+03,  3.44659804e+04,\n",
              "        1.09129639e+04,  3.63394136e+04,  1.12088175e+04,  3.30185244e+04,\n",
              "        4.71943987e+03,  3.09381712e+04,  1.51247415e+04, -1.14659999e+03,\n",
              "        8.12375215e+03,  1.30131417e+04,  5.66954773e+03,  7.57341361e+03,\n",
              "        1.89820108e+03,  1.32365334e+04,  2.80123401e+03, -2.00145661e+02,\n",
              "        8.89534501e+03,  7.69439762e+03,  3.16247220e+04,  3.07438238e+04,\n",
              "        3.45718095e+03,  8.63489446e+03,  6.56078987e+03,  8.77333830e+03,\n",
              "        2.52892126e+04,  3.69052163e+03,  1.13452543e+04,  5.74911574e+03,\n",
              "        7.72897855e+03,  2.91710573e+04,  6.40870692e+03,  7.70352718e+03,\n",
              "        2.96743202e+04,  7.64043363e+03,  8.41567989e+01,  2.93943150e+03,\n",
              "        1.06857822e+04,  8.70264755e+03,  3.14778241e+03,  7.40776246e+03,\n",
              "        7.75599836e+03,  1.18858536e+04,  7.20858789e+03,  1.44740213e+04,\n",
              "        9.72592929e+03,  9.48729078e+03,  1.94021344e+03,  1.47010726e+04,\n",
              "        1.43353450e+04,  1.56728132e+04,  8.72866752e+03,  1.54593528e+04,\n",
              "        3.53899016e+04,  7.15247766e+03, -1.70487564e+03,  6.00845976e+03,\n",
              "        2.98294439e+03,  6.73900178e+03,  2.55172566e+04,  2.70937297e+04,\n",
              "        1.02446658e+04,  1.01045762e+04,  2.75834595e+03,  8.78614639e+03,\n",
              "        5.34998083e+03,  1.01098667e+04,  5.17454711e+03,  8.70393523e+03,\n",
              "        1.00704979e+04,  1.03352470e+04,  3.56051523e+03,  3.41163723e+04,\n",
              "        2.75669821e+04,  4.36282141e+02,  1.20754166e+04,  2.45770084e+03,\n",
              "        2.92796627e+04,  9.33004348e+03,  9.31126114e+03,  3.06334639e+04,\n",
              "        9.22197039e+03, -3.53456663e+01,  9.65121268e+03,  1.26363921e+04,\n",
              "        1.06888131e+04,  1.26542486e+02,  3.01023384e+04,  2.86709615e+03,\n",
              "        8.34781451e+03,  1.09343882e+04,  2.80428021e+04,  1.09697362e+04,\n",
              "        1.22400920e+04,  3.39169634e+04,  3.22176301e+04,  1.84714870e+03,\n",
              "        5.56554617e+03,  6.46439721e+03,  1.19410159e+04,  5.62106272e+03,\n",
              "        8.51208988e+03,  9.97477991e+03,  5.23149590e+03,  7.83699394e+03,\n",
              "        1.02349912e+04,  7.03470612e+03,  6.70888135e+03,  1.40361516e+03,\n",
              "        1.06365859e+04,  3.86361412e+04,  1.28589639e+04,  1.11334169e+04,\n",
              "        1.45108477e+04,  1.34240719e+04,  2.65713491e+04,  1.14401566e+04,\n",
              "        1.91233983e+03,  3.13188769e+04,  3.31597319e+04,  1.36595722e+04,\n",
              "        9.58222121e+03,  3.04013780e+04,  1.13917107e+04,  1.25295314e+04,\n",
              "        1.19781950e+04, -2.07378424e+02,  1.16690171e+04,  1.11748219e+04,\n",
              "        1.30008904e+04,  7.01799319e+03,  1.58464227e+04,  1.28094396e+04,\n",
              "        7.84802454e+03,  5.37249151e+02,  1.11426895e+04,  3.33557298e+04,\n",
              "        3.28294370e+04,  6.01344292e+02,  6.44152375e+03,  2.95944528e+04,\n",
              "        3.16777565e+03,  4.10936849e+03])"
            ]
          },
          "metadata": {},
          "execution_count": 31
        }
      ]
    },
    {
      "cell_type": "code",
      "source": [
        "realValues = np.array(ytest)\n",
        "realValues"
      ],
      "metadata": {
        "colab": {
          "base_uri": "https://localhost:8080/"
        },
        "id": "gdqm7ku_1TcS",
        "outputId": "2ea89e8a-51ef-4fed-b9c0-8ab8b76cba03"
      },
      "execution_count": 41,
      "outputs": [
        {
          "output_type": "execute_result",
          "data": {
            "text/plain": [
              "array([13041.921  ,  5031.26955, 20984.0936 , 25656.57526,  3201.24515,\n",
              "        7256.7231 , 41999.52   , 12404.8791 , 14001.1338 , 47269.854  ,\n",
              "        2597.779  , 29330.98315,  2741.948  , 14256.1928 ,  6238.298  ,\n",
              "        4746.344  ,  6652.5288 ,  2250.8352 , 41676.0811 , 39836.519  ,\n",
              "       47928.03   ,  7650.77375,  6457.8434 , 11837.16   , 42211.1382 ,\n",
              "        4837.5823 ,  4894.7533 , 36219.40545,  2201.0971 ,  8556.907  ,\n",
              "       12644.589  ,  2473.3341 ,  4032.2407 , 13224.693  ,  5584.3057 ,\n",
              "       19350.3689 , 12479.70895,  7261.741  , 30284.64294,  3537.703  ,\n",
              "       11165.41765, 40003.33225, 10264.4421 , 21098.55405, 11554.2236 ,\n",
              "        9880.068  ,  4340.4409 ,  4435.0942 , 26140.3603 , 27375.90478,\n",
              "       11674.13   ,  6338.0756 ,  9724.53   ,  3443.064  ,  3490.5491 ,\n",
              "       10579.711  , 10602.385  ,  8527.532  ,  7325.0482 , 33475.81715,\n",
              "       35491.64   ,  4076.497  ,  1137.4697 ,  3943.5954 ,  2523.1695 ,\n",
              "        5469.0066 , 14133.03775,  1141.4451 ,  4133.64165, 26125.67477,\n",
              "        6184.2994 , 39556.4945 ,  7512.267  , 20296.86345,  2155.6815 ,\n",
              "        4149.736  ,  9447.3824 ,  4719.52405,  3597.596  ,  3392.3652 ,\n",
              "       11353.2276 ,  2130.6759 , 51194.55914, 14474.675  ,  7173.35995,\n",
              "        6986.697  , 13831.1152 , 30942.1918 ,  2257.47525, 42856.838  ,\n",
              "        4466.6214 , 11658.37915,  2585.85065,  7050.0213 , 42969.8527 ,\n",
              "        1969.614  ,  1635.73365,  1534.3045 , 34838.873  ,  1241.565  ,\n",
              "       28923.13692,  5484.4673 ,  2913.569  ,  9861.025  , 14451.83515,\n",
              "       11830.6072 ,  8027.968  ,  2331.519  ,  3056.3881 ,  6067.12675,\n",
              "       17085.2676 ,  7348.142  ,  4449.462  , 11073.176  ,  5757.41345,\n",
              "        1646.4297 , 48970.2476 , 11394.06555, 36197.699  ,  2134.9015 ,\n",
              "       11085.5868 ,  7371.772  ,  2927.0647 ,  5257.50795,  2639.0429 ,\n",
              "       13126.67745,  4544.2348 , 39125.33225,  7441.501  , 16138.76205,\n",
              "       39727.614  ,  1252.407  , 11743.299  ,  5312.16985,  5729.0053 ,\n",
              "        2803.69785,  1906.35825, 10965.446  , 18955.22017,  1967.0227 ,\n",
              "       29186.48236, 14210.53595, 13981.85035,  9957.7216 ,  5245.2269 ,\n",
              "        9991.03765, 43896.3763 ,  2219.4451 ,  1515.3449 ,  5028.1466 ,\n",
              "        9850.432  , 10736.87075,  2850.68375, 11015.1747 , 15359.1045 ,\n",
              "       11272.33139,  4500.33925,  7421.19455,  3393.35635,  2534.39375,\n",
              "        2494.022  ,  7222.78625,  2680.9493 , 36910.60803,  5630.45785,\n",
              "        4151.0287 , 40273.6455 ,  4185.0979 ,  2709.1119 ,  7160.094  ,\n",
              "       14426.07385, 27000.98473,  1135.9407 ,  2166.732  ,  2020.177  ,\n",
              "       26236.57997,  9487.6442 ,  4260.744  , 10928.849  ,  2217.6012 ,\n",
              "       23563.01618, 10577.087  , 39871.7043 ,  2007.945  , 12638.195  ,\n",
              "       14001.2867 ,  2395.17155,  8116.26885, 12829.4551 , 17178.6824 ,\n",
              "        8023.13545, 39774.2763 ,  9722.7695 ,  7151.092  ,  6496.886  ,\n",
              "       24180.9335 ,  7789.635  ,  9282.4806 ,  8871.1517 , 12146.971  ,\n",
              "       15820.699  , 38415.474  ,  1832.094  ,  1263.249  ,  4349.462  ,\n",
              "        2566.4707 , 37079.372  , 13451.122  , 23065.4207 ,  9866.30485,\n",
              "       15006.57945,  3877.30425,  7046.7222 ,  2416.955  ,  5425.02335,\n",
              "       16776.30405, 17468.9839 ,  4646.759  , 10106.13425, 12244.531  ,\n",
              "       12950.0712 , 15612.19335,  2689.4954 , 21659.9301 ,  4779.6023 ,\n",
              "        7345.7266 ,  5002.7827 , 27322.73386,  1744.465  , 15555.18875,\n",
              "       19933.458  , 16420.49455,  7050.642  ,  3645.0894 ,  4428.88785,\n",
              "        9101.798  ,  4889.9995 , 17128.42608,  1634.5734 , 40720.55105,\n",
              "        3161.454  ,  8827.2099 ,  5709.1644 , 13470.8044 ,  8162.71625,\n",
              "        9715.841  , 18767.7377 ,  3659.346  ,  8606.2174 ,  4719.73655,\n",
              "        1704.5681 ,  8124.4084 ,  2217.46915,  4934.705  ,  5649.715  ,\n",
              "       18259.216  ,  8978.1851 , 11931.12525,  4922.9159 , 24106.91255,\n",
              "       13616.3586 , 42983.4585 ,  8068.185  , 38746.3551 ,  3481.868  ,\n",
              "       19964.7463 , 20462.99766,  1607.5101 ,  6113.23105, 20630.28351,\n",
              "        4243.59005,  7986.47525,  2710.82855, 13880.949  , 22493.65964,\n",
              "        3167.45585, 15828.82173,  5373.36425, 21472.4788 , 37465.34375,\n",
              "        4529.477  , 27117.99378,  6414.178  ,  6128.79745, 16884.924  ,\n",
              "        3554.203  ,  5662.225  ,  2322.6218 ,  3766.8838 , 34672.1472 ,\n",
              "        8269.044  ,  6837.3687 , 36085.219  ,  5148.5526 ,  1628.4709 ,\n",
              "        3044.2133 ,  4753.6368 ,  8601.3293 ,  1261.859  ,  7985.815  ,\n",
              "        6186.127  ,  9563.029  ,  4830.63   , 12347.172  ,  4795.6568 ,\n",
              "        8219.2039 ,  1131.5066 , 12949.1554 , 10959.6947 , 14590.63205,\n",
              "        5594.8455 ,  9058.7303 , 26109.32905,  6282.235  ,  1621.3402 ,\n",
              "        5152.134  ,  4906.40965,  7623.518  , 14571.8908 , 32734.1863 ,\n",
              "        8410.04685, 22192.43711,  3847.674  ,  5699.8375 , 11737.84884,\n",
              "        8930.93455,  3947.4131 , 11013.7119 ,  8310.83915, 32108.66282,\n",
              "       21984.47061, 24667.419  , 33900.653  ,  2457.502  , 12129.61415,\n",
              "        3561.8889 , 35595.5898 , 17929.30337,  8516.829  , 37133.8982 ,\n",
              "        7537.1639 ,  1702.4553 ,  9500.57305,  9386.1613 ,  6334.34355,\n",
              "        2302.3    , 36124.5737 ,  1639.5631 ,  6799.458  , 10702.6424 ,\n",
              "       18246.4955 ,  7160.3303 , 14988.432  , 23807.2406 , 21880.82   ,\n",
              "        3176.2877 ,  5266.3656 ,  4889.0368 , 14254.6082 ,  7133.9025 ,\n",
              "        6775.961  ,  5972.378  ,  2855.43755,  6600.361  , 10493.9458 ,\n",
              "        6059.173  , 18903.49141,  1743.214  ,  6551.7501 , 47291.055  ,\n",
              "       13457.9608 ,  9630.397  , 13974.45555,  9877.6077 , 17352.6803 ,\n",
              "       12222.8983 ,  3861.20965, 44585.45587, 38998.546  ,  8342.90875,\n",
              "        9225.2564 , 36837.467  ,  7162.0122 , 28476.73499, 12815.44495,\n",
              "        2775.19215,  9872.701  , 12323.936  , 14394.5579 ,  7624.63   ,\n",
              "       30063.58055,  7804.1605 ,  5327.40025,  2150.469  ,  8765.249  ,\n",
              "       24520.264  , 23568.272  ,  3208.787  , 13725.47184, 19023.26   ,\n",
              "        1136.3994 ,  2902.9065 ])"
            ]
          },
          "metadata": {},
          "execution_count": 41
        }
      ]
    },
    {
      "cell_type": "code",
      "source": [
        "lm.intercept_"
      ],
      "metadata": {
        "colab": {
          "base_uri": "https://localhost:8080/"
        },
        "id": "b3Sy4AJiYZFi",
        "outputId": "1392bd06-1303-4a4b-b6ec-e8423c179538"
      },
      "execution_count": 32,
      "outputs": [
        {
          "output_type": "execute_result",
          "data": {
            "text/plain": [
              "-14045.806099344214"
            ]
          },
          "metadata": {},
          "execution_count": 32
        }
      ]
    },
    {
      "cell_type": "code",
      "source": [
        "lm.coef_"
      ],
      "metadata": {
        "colab": {
          "base_uri": "https://localhost:8080/"
        },
        "id": "CVrIO_rIzsar",
        "outputId": "cbc860ec-82b9-49cd-e9b6-9d733b2cd2d8"
      },
      "execution_count": 33,
      "outputs": [
        {
          "output_type": "execute_result",
          "data": {
            "text/plain": [
              "array([  245.94487173,   173.89871781,   348.73926682,   546.84795959,\n",
              "       24234.33665543,   524.00517078])"
            ]
          },
          "metadata": {},
          "execution_count": 33
        }
      ]
    },
    {
      "cell_type": "code",
      "source": [
        "sns.displot((ytest-predictions))"
      ],
      "metadata": {
        "colab": {
          "base_uri": "https://localhost:8080/",
          "height": 524
        },
        "id": "W7OtvgeBz0lm",
        "outputId": "6da74093-7ac8-4c95-fb37-459e4f45a15c"
      },
      "execution_count": 34,
      "outputs": [
        {
          "output_type": "execute_result",
          "data": {
            "text/plain": [
              "<seaborn.axisgrid.FacetGrid at 0x7f53ee4db520>"
            ]
          },
          "metadata": {},
          "execution_count": 34
        },
        {
          "output_type": "display_data",
          "data": {
            "text/plain": [
              "<Figure size 500x500 with 1 Axes>"
            ],
            "image/png": "[encoded data removed]"
          },
          "metadata": {}
        }
      ]
    },
    {
      "cell_type": "code",
      "source": [
        "plt.scatter(realValues,predictions);\n",
        "sns.distplot((ytest-predictions),bins=20);"
      ],
      "metadata": {
        "colab": {
          "base_uri": "https://localhost:8080/",
          "height": 640
        },
        "id": "K1ud_A2x1OXd",
        "outputId": "76e151e9-d8ff-4e85-8359-bf0b5adcfef7"
      },
      "execution_count": 42,
      "outputs": [
        {
          "output_type": "stream",
          "name": "stderr",
          "text": [
            "<ipython-input-42-99f943920f33>:2: UserWarning: \n",
            "\n",
            "`distplot` is a deprecated function and will be removed in seaborn v0.14.0.\n",
            "\n",
            "Please adapt your code to use either `displot` (a figure-level function with\n",
            "similar flexibility) or `histplot` (an axes-level function for histograms).\n",
            "\n",
            "For a guide to updating your code to use the new functions, please see\n",
            "https://gist.github.com/mwaskom/de44147ed2974457ad6372750bbe5751\n",
            "\n",
            "  sns.distplot((ytest-predictions),bins=20);\n"
          ]
        },
        {
          "output_type": "display_data",
          "data": {
            "text/plain": [
              "<Figure size 640x480 with 1 Axes>"
            ],
            "image/png": "[encoded data removed]"
          },
          "metadata": {}
        }
      ]
    },
    {
      "cell_type": "markdown",
      "source": [
        "# evaluation metrics"
      ],
      "metadata": {
        "id": "HzSHRNh22Up6"
      }
    },
    {
      "cell_type": "code",
      "source": [
        "from sklearn import metrics\n",
        "metrics.mean_absolute_error(ytest,predictions)"
      ],
      "metadata": {
        "colab": {
          "base_uri": "https://localhost:8080/"
        },
        "id": "Gtz2-DUC0HQF",
        "outputId": "c22cf23a-4298-419c-c44a-947af6b0c1a7"
      },
      "execution_count": 35,
      "outputs": [
        {
          "output_type": "execute_result",
          "data": {
            "text/plain": [
              "4044.9876601373285"
            ]
          },
          "metadata": {},
          "execution_count": 35
        }
      ]
    },
    {
      "cell_type": "code",
      "source": [
        "metrics.mean_squared_error(ytest,predictions)"
      ],
      "metadata": {
        "colab": {
          "base_uri": "https://localhost:8080/"
        },
        "id": "YOdp6uAX0Je_",
        "outputId": "28611d9f-9afd-4b19-93ce-83e3bbf9a252"
      },
      "execution_count": 36,
      "outputs": [
        {
          "output_type": "execute_result",
          "data": {
            "text/plain": [
              "35359546.654409066"
            ]
          },
          "metadata": {},
          "execution_count": 36
        }
      ]
    },
    {
      "cell_type": "code",
      "source": [
        "np.sqrt(metrics.mean_squared_error(ytest,predictions))"
      ],
      "metadata": {
        "colab": {
          "base_uri": "https://localhost:8080/"
        },
        "id": "ckUUvEKv0Noo",
        "outputId": "c4ee605b-e4c6-4de7-b56b-b2110bd2af78"
      },
      "execution_count": 37,
      "outputs": [
        {
          "output_type": "execute_result",
          "data": {
            "text/plain": [
              "5946.389379649559"
            ]
          },
          "metadata": {},
          "execution_count": 37
        }
      ]
    },
    {
      "cell_type": "code",
      "source": [
        "metrics.r2_score(ytest, predictions)"
      ],
      "metadata": {
        "colab": {
          "base_uri": "https://localhost:8080/"
        },
        "id": "IrTuqdhN0QXq",
        "outputId": "3a6bfefa-8801-4333-bf8d-ea93103310e2"
      },
      "execution_count": 38,
      "outputs": [
        {
          "output_type": "execute_result",
          "data": {
            "text/plain": [
              "0.7289379757416039"
            ]
          },
          "metadata": {},
          "execution_count": 38
        }
      ]
    }
  ]
}